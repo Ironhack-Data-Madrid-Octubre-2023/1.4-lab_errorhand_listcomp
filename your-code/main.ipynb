{
 "cells": [
  {
   "cell_type": "markdown",
   "id": "576731f7",
   "metadata": {},
   "source": [
    "**Example:**\n",
    "\n",
    "eggs = (1,3,8,3,2)\n",
    "\n",
    "my_listComprehension = [1/egg for egg in eggs]\n",
    "\n",
    "print(my_listComprehension)\n"
   ]
  },
  {
   "cell_type": "markdown",
   "id": "cf2623ae",
   "metadata": {},
   "source": [
    "# Insert here the module/library import statements "
   ]
  },
  {
   "cell_type": "code",
   "execution_count": 1,
   "id": "630d7e4d",
   "metadata": {},
   "outputs": [],
   "source": [
    "import math \n",
    "import random\n",
    "import os"
   ]
  },
  {
   "cell_type": "markdown",
   "id": "59d96563",
   "metadata": {},
   "source": [
    "\n",
    "# Calculate the square number of the first 20 numbers. Use square as the name of the list.\n",
    "Remember to use list comprehensions and to print your results"
   ]
  },
  {
   "cell_type": "code",
   "execution_count": 2,
   "id": "72014f9d",
   "metadata": {},
   "outputs": [
    {
     "name": "stdout",
     "output_type": "stream",
     "text": [
      "[0, 1, 4, 9, 16, 25, 36, 49, 64, 81, 100, 121, 144, 169, 196, 225, 256, 289, 324, 361, 400]\n"
     ]
    }
   ],
   "source": [
    "square = [x**2 for x in range(21)]\n",
    "print(square)"
   ]
  },
  {
   "cell_type": "markdown",
   "id": "b421e0cb",
   "metadata": {},
   "source": [
    "# Calculate the square root of the first 100 numbers. Use sqrt as the name of the list.\n",
    "You will probably need to install math library with pip and import it in this file.\n",
    "\n",
    "Remember to use list comprehensions and to print your results\n"
   ]
  },
  {
   "cell_type": "code",
   "execution_count": 3,
   "id": "c047115a",
   "metadata": {},
   "outputs": [
    {
     "name": "stdout",
     "output_type": "stream",
     "text": [
      "[0.0, 1.0, 1.4142135623730951, 1.7320508075688772, 2.0, 2.23606797749979, 2.449489742783178, 2.6457513110645907, 2.8284271247461903, 3.0]\n"
     ]
    }
   ],
   "source": [
    "sqrt = [x**0.5 for x in range(100)]\n",
    "print(sqrt[0:10])"
   ]
  },
  {
   "cell_type": "markdown",
   "id": "f4bfca8d",
   "metadata": {},
   "source": [
    "\n",
    "# Create this list [-10,-9,-8,-7,-6,-5,-4,-3,-2,-1,0]. Use my_list as the name of the list.\n",
    "Remember to use list comprehensions and to print your results"
   ]
  },
  {
   "cell_type": "code",
   "execution_count": 4,
   "id": "e23d87ea",
   "metadata": {},
   "outputs": [
    {
     "data": {
      "text/plain": [
       "[-10, -9, -8, -7, -6, -5, -4, -3, -2, -1, 0]"
      ]
     },
     "execution_count": 4,
     "metadata": {},
     "output_type": "execute_result"
    }
   ],
   "source": [
    "my_list = [(x-10) for x in range(11)]\n",
    "my_list"
   ]
  },
  {
   "cell_type": "markdown",
   "id": "62592d9c",
   "metadata": {},
   "source": [
    "\n",
    "# Find the odd numbers from 1-100. Use odds as the name of the list. \n",
    "Remember to use list comprehensions and to print your results"
   ]
  },
  {
   "cell_type": "code",
   "execution_count": 5,
   "id": "d8d1c865",
   "metadata": {},
   "outputs": [
    {
     "name": "stdout",
     "output_type": "stream",
     "text": [
      "[1, 3, 5, 7, 9, 11, 13, 15, 17, 19, 21, 23, 25, 27, 29, 31, 33, 35, 37, 39, 41, 43, 45, 47, 49, 51, 53, 55, 57, 59, 61, 63, 65, 67, 69, 71, 73, 75, 77, 79, 81, 83, 85, 87, 89, 91, 93, 95, 97, 99]\n"
     ]
    }
   ],
   "source": [
    "odd = [x for x in range(100) if x%2 == True]\n",
    "print(odd)"
   ]
  },
  {
   "cell_type": "markdown",
   "id": "d8b74c2a",
   "metadata": {},
   "source": [
    "# Find all of the numbers from 1-1000 that are divisible by 7. Use divisible_by_seven as the name of the list.\n",
    "Remember to use list comprehensions and to print your results"
   ]
  },
  {
   "cell_type": "code",
   "execution_count": 6,
   "id": "6a9cfb8c",
   "metadata": {},
   "outputs": [
    {
     "name": "stdout",
     "output_type": "stream",
     "text": [
      "[0, 7, 14, 21, 28, 35, 42, 49, 56, 63, 70, 77, 84, 91, 98, 105, 112, 119, 126, 133, 140, 147, 154, 161, 168, 175, 182, 189, 196, 203, 210, 217, 224, 231, 238, 245, 252, 259, 266, 273, 280, 287, 294, 301, 308, 315, 322, 329, 336, 343, 350, 357, 364, 371, 378, 385, 392, 399, 406, 413, 420, 427, 434, 441, 448, 455, 462, 469, 476, 483, 490, 497, 504, 511, 518, 525, 532, 539, 546, 553, 560, 567, 574, 581, 588, 595, 602, 609, 616, 623, 630, 637, 644, 651, 658, 665, 672, 679, 686, 693, 700, 707, 714, 721, 728, 735, 742, 749, 756, 763, 770, 777, 784, 791, 798, 805, 812, 819, 826, 833, 840, 847, 854, 861, 868, 875, 882, 889, 896, 903, 910, 917, 924, 931, 938, 945, 952, 959, 966, 973, 980, 987, 994]\n"
     ]
    }
   ],
   "source": [
    "divisible_by_seven = [x for x in range(1000) if x%7 == 0]\n",
    "print(divisible_by_seven)"
   ]
  },
  {
   "cell_type": "markdown",
   "id": "6e6f21e0",
   "metadata": {},
   "source": [
    "# Remove all of the vowels in a string. Hint: make a list of the non-vowels. Use non_vowels as the name of the list.\n",
    "Remember to use list comprehensions and to print your results"
   ]
  },
  {
   "cell_type": "code",
   "execution_count": 7,
   "id": "43b38bd3",
   "metadata": {},
   "outputs": [],
   "source": [
    "# You can use the following test string but feel free to modify at your convenience\n",
    "\n",
    "teststring = 'Find all of the words in a string that are monosyllabic'"
   ]
  },
  {
   "cell_type": "code",
   "execution_count": 8,
   "id": "d5fc7426",
   "metadata": {},
   "outputs": [
    {
     "data": {
      "text/plain": [
       "'Fnd ll f th wrds n  strng tht r mnsyllbc'"
      ]
     },
     "execution_count": 8,
     "metadata": {},
     "output_type": "execute_result"
    }
   ],
   "source": [
    "vowels = ['a', 'e', 'i', 'o', 'u', 'A', 'E', 'I', 'O', 'U']\n",
    "\n",
    "text = ''.join([x for x in teststring if x not in vowels])\n",
    "      \n",
    "text"
   ]
  },
  {
   "cell_type": "markdown",
   "id": "277d491e",
   "metadata": {},
   "source": [
    "# Find the capital letters (and not white space) in the sentence 'The Quick Brown Fox Jumped Over The Lazy Dog'. \n",
    "- **Use capital_letters as the name of the list.**\n",
    "\n",
    "Remember to use list comprehensions and to print your results"
   ]
  },
  {
   "cell_type": "code",
   "execution_count": 9,
   "id": "cbb58690",
   "metadata": {},
   "outputs": [
    {
     "name": "stdout",
     "output_type": "stream",
     "text": [
      "['T', 'Q', 'B', 'F', 'J', 'O', 'T', 'L', 'D']\n"
     ]
    }
   ],
   "source": [
    "sentence = 'The Quick Brown Fox Jumped Over The Lazy Dog'\n",
    "capital_letters = [x for x in (sentence.replace(' ', '')) if x.isupper()]\n",
    "print(capital_letters)"
   ]
  },
  {
   "cell_type": "markdown",
   "id": "c2603719",
   "metadata": {},
   "source": [
    "# Find all the consonants in the sentence 'The quick brown fox jumped over the lazy dog'.\n",
    " - **Use consonants as the name of the list.**\n",
    " \n",
    "Remember to use list comprehensions and to print your results.\n"
   ]
  },
  {
   "cell_type": "code",
   "execution_count": 10,
   "id": "3ddb68df",
   "metadata": {},
   "outputs": [
    {
     "name": "stdout",
     "output_type": "stream",
     "text": [
      "['T', 'h', 'q', 'c', 'k', 'b', 'r', 'w', 'n', 'f', 'x', 'j', 'm', 'p', 'd', 'v', 'r', 't', 'h', 'l', 'z', 'y', 'd', 'g']\n"
     ]
    }
   ],
   "source": [
    "vowels = ['a', 'e', 'i', 'o', 'u', 'A', 'E', 'I', 'O', 'U']\n",
    "\n",
    "sentence = 'The quick brown fox jumped over the lazy dog'\n",
    "\n",
    "consonant = [letters for letters in (sentence.replace(' ','')) if letters not in vowels]\n",
    "print(consonant)"
   ]
  },
  {
   "cell_type": "markdown",
   "id": "0f9c4004",
   "metadata": {},
   "source": [
    "# Find the folders you have in your madrid-oct-2018 local repo. Use files as name of the list.  \n",
    "\n",
    "**Hint: You will probably need to import os library and some of its modules. You will need to make some online research.**\n",
    "\n",
    "Remember to use list comprehensions and to print your results."
   ]
  },
  {
   "cell_type": "code",
   "execution_count": 11,
   "id": "22bb13eb",
   "metadata": {},
   "outputs": [
    {
     "name": "stdout",
     "output_type": "stream",
     "text": [
      "['1.2-lab_tuple_set_dict', '1.3-lab_functions', '1.1-lab_bash', '1.4-lab_map_reduce_filter', 'week1_python_miguel_.ipynb', 'apuntes_clase', '.ipynb_checkpoints', '1.4-lab_errorhand_listcomp', '1.5-lab_vikings', '1.3-lab_bags_of_words', '1.2-lab_list_comprehension', '1.1-lab_git']\n"
     ]
    }
   ],
   "source": [
    "files = os.listdir(\"/Users/mbp/Documents/IRONHACK/04.Classes/\")\n",
    "print(files)"
   ]
  },
  {
   "cell_type": "markdown",
   "id": "2cdaa518",
   "metadata": {},
   "source": [
    "# Create 4 lists of 10 random numbers between 0 and 100 each. Use random_lists as the name of the list. \n",
    "**Hint: You will probably need to import random module**\n",
    "\n",
    "Remember to use list comprehensions and to print your results"
   ]
  },
  {
   "cell_type": "code",
   "execution_count": 50,
   "id": "120b29bd",
   "metadata": {},
   "outputs": [],
   "source": [
    "random_lists = [[random.randint(0,101) for i in range(10)] for i in range(4)]"
   ]
  },
  {
   "cell_type": "markdown",
   "id": "b76ea171",
   "metadata": {},
   "source": [
    "# Flatten the following list of lists. Use flatten_list as the name of the output.\n",
    "\n",
    "Remember to use list comprehensions and to print your results\n"
   ]
  },
  {
   "cell_type": "code",
   "execution_count": 57,
   "id": "b3afebb7",
   "metadata": {},
   "outputs": [],
   "source": [
    "list_of_lists = [[1,2,3],[4,5,6],[7,8,9]]"
   ]
  },
  {
   "cell_type": "code",
   "execution_count": 62,
   "id": "256bcc3d",
   "metadata": {},
   "outputs": [
    {
     "name": "stdout",
     "output_type": "stream",
     "text": [
      "[1, 2, 3, 4, 5, 6, 7, 8, 9]\n"
     ]
    }
   ],
   "source": [
    "flatten_list = [numbers for lists in list_of_lists for numbers in lists]\n",
    "\n",
    "print(flatten_list)"
   ]
  },
  {
   "cell_type": "markdown",
   "id": "53c86611",
   "metadata": {},
   "source": [
    "\n",
    "# Convert the numbers of the following nested list to floats. Use floats as the name of the list. \n",
    "\n",
    "Remember to use list comprehensions and to print your results."
   ]
  },
  {
   "cell_type": "code",
   "execution_count": 65,
   "id": "7087f44e",
   "metadata": {},
   "outputs": [],
   "source": [
    "list_of_lists = [['40', '20', '10', '30'], ['20', '20', '20', '20', '20', '30', '20'], \\\n",
    "['30', '20', '30', '50', '10', '30', '20', '20', '20'], ['100', '100'], ['100', '100', '100', '100', '100'], \\\n",
    "['100', '100', '100', '100']]"
   ]
  },
  {
   "cell_type": "code",
   "execution_count": 66,
   "id": "a932aff5",
   "metadata": {},
   "outputs": [
    {
     "name": "stdout",
     "output_type": "stream",
     "text": [
      "[40.0, 20.0, 10.0, 30.0, 20.0, 20.0, 20.0, 20.0, 20.0, 30.0, 20.0, 30.0, 20.0, 30.0, 50.0, 10.0, 30.0, 20.0, 20.0, 20.0, 100.0, 100.0, 100.0, 100.0, 100.0, 100.0, 100.0, 100.0, 100.0, 100.0, 100.0]\n"
     ]
    }
   ],
   "source": [
    "floats = [float(numbers) for lists in list_of_lists for numbers in lists]\n",
    "print(floats)"
   ]
  },
  {
   "cell_type": "markdown",
   "id": "62272da6",
   "metadata": {},
   "source": [
    "# Handle the exception thrown by the code below by using try and except blocks. \n"
   ]
  },
  {
   "cell_type": "code",
   "execution_count": 71,
   "id": "b5980ab4",
   "metadata": {},
   "outputs": [
    {
     "ename": "SyntaxError",
     "evalue": "Missing parentheses in call to 'print'. Did you mean print(...)? (3439384179.py, line 2)",
     "output_type": "error",
     "traceback": [
      "\u001b[0;36m  Cell \u001b[0;32mIn[71], line 2\u001b[0;36m\u001b[0m\n\u001b[0;31m    print i**2\u001b[0m\n\u001b[0m    ^\u001b[0m\n\u001b[0;31mSyntaxError\u001b[0m\u001b[0;31m:\u001b[0m Missing parentheses in call to 'print'. Did you mean print(...)?\n"
     ]
    }
   ],
   "source": [
    "for i in ['a','b','c']:\n",
    "    print i**2"
   ]
  },
  {
   "cell_type": "code",
   "execution_count": null,
   "id": "fc14c8ba",
   "metadata": {},
   "outputs": [],
   "source": []
  },
  {
   "cell_type": "markdown",
   "id": "bda76246",
   "metadata": {},
   "source": [
    "# Handle the exception thrown by the code below by using try and except blocks. \n",
    "\n",
    "Then use a finally block to print 'All Done.'\n",
    "\n",
    "Check in provided resources the type of error you may use. \n"
   ]
  },
  {
   "cell_type": "code",
   "execution_count": 82,
   "id": "441acd1c",
   "metadata": {},
   "outputs": [
    {
     "ename": "ZeroDivisionError",
     "evalue": "division by zero",
     "output_type": "error",
     "traceback": [
      "\u001b[0;31m---------------------------------------------------------------------------\u001b[0m",
      "\u001b[0;31mZeroDivisionError\u001b[0m                         Traceback (most recent call last)",
      "Cell \u001b[0;32mIn[82], line 4\u001b[0m\n\u001b[1;32m      1\u001b[0m x \u001b[38;5;241m=\u001b[39m \u001b[38;5;241m5\u001b[39m\n\u001b[1;32m      2\u001b[0m y \u001b[38;5;241m=\u001b[39m \u001b[38;5;241m0\u001b[39m\n\u001b[0;32m----> 4\u001b[0m z \u001b[38;5;241m=\u001b[39m x\u001b[38;5;241m/\u001b[39my\n",
      "\u001b[0;31mZeroDivisionError\u001b[0m: division by zero"
     ]
    }
   ],
   "source": [
    "x = 5\n",
    "y = 0\n",
    "\n",
    "z = x/y"
   ]
  },
  {
   "cell_type": "code",
   "execution_count": 88,
   "id": "976fec9f",
   "metadata": {},
   "outputs": [
    {
     "name": "stdout",
     "output_type": "stream",
     "text": [
      "You can not divide by 0\n",
      "All done\n"
     ]
    }
   ],
   "source": [
    "try:\n",
    "    x = 5\n",
    "    y = 0\n",
    "\n",
    "    z = x/y\n",
    "    \n",
    "except ZeroDivisionError:\n",
    "    print('You can not divide by 0')\n",
    "    \n",
    "finally:\n",
    "    print('All done')"
   ]
  },
  {
   "cell_type": "markdown",
   "id": "85ea78c5",
   "metadata": {},
   "source": [
    "# Handle the exception thrown by the code below by using try and except blocks. \n",
    "\n",
    "Check in provided resources the type of error you may use. \n"
   ]
  },
  {
   "cell_type": "code",
   "execution_count": 89,
   "id": "783a8224",
   "metadata": {},
   "outputs": [
    {
     "ename": "IndexError",
     "evalue": "list index out of range",
     "output_type": "error",
     "traceback": [
      "\u001b[0;31m---------------------------------------------------------------------------\u001b[0m",
      "\u001b[0;31mIndexError\u001b[0m                                Traceback (most recent call last)",
      "Cell \u001b[0;32mIn[89], line 2\u001b[0m\n\u001b[1;32m      1\u001b[0m abc\u001b[38;5;241m=\u001b[39m[\u001b[38;5;241m10\u001b[39m,\u001b[38;5;241m20\u001b[39m,\u001b[38;5;241m20\u001b[39m]\n\u001b[0;32m----> 2\u001b[0m \u001b[38;5;28mprint\u001b[39m(abc[\u001b[38;5;241m3\u001b[39m])\n",
      "\u001b[0;31mIndexError\u001b[0m: list index out of range"
     ]
    }
   ],
   "source": [
    "abc=[10,20,20]\n",
    "print(abc[3])"
   ]
  },
  {
   "cell_type": "code",
   "execution_count": 90,
   "id": "cfcf15f0",
   "metadata": {},
   "outputs": [
    {
     "name": "stdout",
     "output_type": "stream",
     "text": [
      "I believe your index doen't exist: remember index = n-1\n"
     ]
    }
   ],
   "source": [
    "try:\n",
    "    abc=[10,20,20]\n",
    "    print(abc[3])\n",
    "    \n",
    "except IndexError:\n",
    "    print(\"I believe your index doen't exist: remember index = n-1\")"
   ]
  },
  {
   "cell_type": "markdown",
   "id": "10223640",
   "metadata": {},
   "source": [
    "# Handle at least two kind of different exceptions when dividing a couple of numbers provided by the user. \n",
    "\n",
    "**Hint: take a look on python input function.**\n",
    "\n",
    "Check in provided resources the type of error you may use. "
   ]
  },
  {
   "cell_type": "code",
   "execution_count": null,
   "id": "3c1f141b",
   "metadata": {},
   "outputs": [],
   "source": []
  },
  {
   "cell_type": "markdown",
   "id": "5d712a55",
   "metadata": {},
   "source": [
    "# Handle the exception thrown by the code below by using try and except blocks. \n",
    "\n",
    "Check in provided resources the type of error you may use. "
   ]
  },
  {
   "cell_type": "code",
   "execution_count": 91,
   "id": "b73f824c",
   "metadata": {},
   "outputs": [
    {
     "ename": "FileNotFoundError",
     "evalue": "[Errno 2] No such file or directory: 'testfile'",
     "output_type": "error",
     "traceback": [
      "\u001b[0;31m---------------------------------------------------------------------------\u001b[0m",
      "\u001b[0;31mFileNotFoundError\u001b[0m                         Traceback (most recent call last)",
      "Cell \u001b[0;32mIn[91], line 1\u001b[0m\n\u001b[0;32m----> 1\u001b[0m f \u001b[38;5;241m=\u001b[39m \u001b[38;5;28mopen\u001b[39m(\u001b[38;5;124m'\u001b[39m\u001b[38;5;124mtestfile\u001b[39m\u001b[38;5;124m'\u001b[39m,\u001b[38;5;124m'\u001b[39m\u001b[38;5;124mr\u001b[39m\u001b[38;5;124m'\u001b[39m)\n\u001b[1;32m      2\u001b[0m f\u001b[38;5;241m.\u001b[39mwrite(\u001b[38;5;124m'\u001b[39m\u001b[38;5;124mTest write this\u001b[39m\u001b[38;5;124m'\u001b[39m)\n",
      "File \u001b[0;32m~/anaconda3/lib/python3.11/site-packages/IPython/core/interactiveshell.py:284\u001b[0m, in \u001b[0;36m_modified_open\u001b[0;34m(file, *args, **kwargs)\u001b[0m\n\u001b[1;32m    277\u001b[0m \u001b[38;5;28;01mif\u001b[39;00m file \u001b[38;5;129;01min\u001b[39;00m {\u001b[38;5;241m0\u001b[39m, \u001b[38;5;241m1\u001b[39m, \u001b[38;5;241m2\u001b[39m}:\n\u001b[1;32m    278\u001b[0m     \u001b[38;5;28;01mraise\u001b[39;00m \u001b[38;5;167;01mValueError\u001b[39;00m(\n\u001b[1;32m    279\u001b[0m         \u001b[38;5;124mf\u001b[39m\u001b[38;5;124m\"\u001b[39m\u001b[38;5;124mIPython won\u001b[39m\u001b[38;5;124m'\u001b[39m\u001b[38;5;124mt let you open fd=\u001b[39m\u001b[38;5;132;01m{\u001b[39;00mfile\u001b[38;5;132;01m}\u001b[39;00m\u001b[38;5;124m by default \u001b[39m\u001b[38;5;124m\"\u001b[39m\n\u001b[1;32m    280\u001b[0m         \u001b[38;5;124m\"\u001b[39m\u001b[38;5;124mas it is likely to crash IPython. If you know what you are doing, \u001b[39m\u001b[38;5;124m\"\u001b[39m\n\u001b[1;32m    281\u001b[0m         \u001b[38;5;124m\"\u001b[39m\u001b[38;5;124myou can use builtins\u001b[39m\u001b[38;5;124m'\u001b[39m\u001b[38;5;124m open.\u001b[39m\u001b[38;5;124m\"\u001b[39m\n\u001b[1;32m    282\u001b[0m     )\n\u001b[0;32m--> 284\u001b[0m \u001b[38;5;28;01mreturn\u001b[39;00m io_open(file, \u001b[38;5;241m*\u001b[39margs, \u001b[38;5;241m*\u001b[39m\u001b[38;5;241m*\u001b[39mkwargs)\n",
      "\u001b[0;31mFileNotFoundError\u001b[0m: [Errno 2] No such file or directory: 'testfile'"
     ]
    }
   ],
   "source": [
    "f = open('testfile','r')\n",
    "f.write('Test write this')"
   ]
  },
  {
   "cell_type": "code",
   "execution_count": null,
   "id": "5a1cb361",
   "metadata": {},
   "outputs": [],
   "source": []
  },
  {
   "cell_type": "markdown",
   "id": "a028ccb8",
   "metadata": {},
   "source": [
    "# Handle the exceptions that can be thrown by the code below using try and except blocks. \n",
    "\n",
    "**Hint: the file could not exist and the data could not be convertable to int**"
   ]
  },
  {
   "cell_type": "code",
   "execution_count": null,
   "id": "5f639ab1",
   "metadata": {},
   "outputs": [],
   "source": [
    "fp = open('myfile.txt')\n",
    "    line = f.readline()\n",
    "    i = int(s.strip())\n"
   ]
  },
  {
   "cell_type": "markdown",
   "id": "d695245b",
   "metadata": {},
   "source": [
    "# The following function can only run on a Linux system. \n",
    "The assert in this function will throw an exception if you call it on an operating system other than Linux.\n",
    "\n",
    "Handle this exception using **try and except** blocks.\n",
    "\n",
    "You will probably need to import sys "
   ]
  },
  {
   "cell_type": "code",
   "execution_count": null,
   "id": "3f043ef6",
   "metadata": {},
   "outputs": [],
   "source": [
    "def linux_interaction():\n",
    "    assert ('linux' in sys.platform), \"Function can only run on Linux systems.\"\n",
    "    print('Doing something.')\n",
    "linux_interaction()"
   ]
  },
  {
   "cell_type": "code",
   "execution_count": null,
   "id": "1643bbed",
   "metadata": {},
   "outputs": [],
   "source": []
  },
  {
   "cell_type": "markdown",
   "id": "9310a60b",
   "metadata": {},
   "source": [
    "\n",
    "# Bonus Questions:"
   ]
  },
  {
   "cell_type": "markdown",
   "id": "2f06d3fd",
   "metadata": {},
   "source": [
    "You will need to make some research on dictionary comprehension to solve the following questions"
   ]
  },
  {
   "cell_type": "markdown",
   "id": "3108ff54",
   "metadata": {},
   "source": [
    "## Write a function that asks for an integer and prints the square of it. \n",
    "\n",
    "**Hint: we need to continually keep checking until we get an integer.**\n",
    "\n",
    "Use a while loop with a try,except, else block to account for incorrect inputs."
   ]
  },
  {
   "cell_type": "code",
   "execution_count": null,
   "id": "94c2e76e",
   "metadata": {},
   "outputs": [],
   "source": []
  },
  {
   "cell_type": "markdown",
   "id": "7139da39",
   "metadata": {},
   "source": [
    "\n",
    "## Find all of the numbers from 1-1000 that are divisible by any single digit besides 1 (2-9). \n",
    "\n",
    "Use results as the name of the list \n"
   ]
  },
  {
   "cell_type": "code",
   "execution_count": null,
   "id": "90d3aa37",
   "metadata": {},
   "outputs": [],
   "source": []
  },
  {
   "cell_type": "markdown",
   "id": "e4791228",
   "metadata": {},
   "source": [
    "## Define a customised exception to handle not accepted values. \n",
    "\n",
    "You have the following user inputs and the Num_of_sections can not be less than 2.\n",
    "\n",
    "**Hint: Create a class derived from the pre-defined Exception class in Python**"
   ]
  },
  {
   "cell_type": "code",
   "execution_count": null,
   "id": "86fa19bf",
   "metadata": {},
   "outputs": [],
   "source": [
    "Total_Marks = int(input(\"Enter Total Marks Scored: \")) \n",
    "Num_of_Sections = int(input(\"Enter Num of Sections: \"))"
   ]
  },
  {
   "cell_type": "code",
   "execution_count": null,
   "id": "f80bb764",
   "metadata": {},
   "outputs": [],
   "source": []
  }
 ],
 "metadata": {
  "kernelspec": {
   "display_name": "Python 3 (ipykernel)",
   "language": "python",
   "name": "python3"
  },
  "language_info": {
   "codemirror_mode": {
    "name": "ipython",
    "version": 3
   },
   "file_extension": ".py",
   "mimetype": "text/x-python",
   "name": "python",
   "nbconvert_exporter": "python",
   "pygments_lexer": "ipython3",
   "version": "3.11.3"
  },
  "toc": {
   "base_numbering": 1,
   "nav_menu": {},
   "number_sections": true,
   "sideBar": true,
   "skip_h1_title": false,
   "title_cell": "Table of Contents",
   "title_sidebar": "Contents",
   "toc_cell": false,
   "toc_position": {},
   "toc_section_display": true,
   "toc_window_display": false
  }
 },
 "nbformat": 4,
 "nbformat_minor": 5
}
